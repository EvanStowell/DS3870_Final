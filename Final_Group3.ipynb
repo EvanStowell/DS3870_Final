{
 "cells": [
  {
   "cell_type": "markdown",
   "id": "cc6a794b-d037-41b8-b93d-f36bf42b4f71",
   "metadata": {},
   "source": [
    "# Group 3 - Final Project\n",
    "### Evan S, Joey G, Ryan S, Jack V\n",
    "\n",
    "## Introduction\n",
    "The data we will be working on is a comprehensive dataset of NBA player, game, and season statistics from 1947-present. The dataset originates from kaggle, which was scraped from basketball-reference.com. Advanced statistics were not calculated until 1980, so we will filter for data between the years 1980 and 2024.\n",
    "\n",
    "Link: https://www.kaggle.com/datasets/sumitrodatta/nba-aba-baa-stats?select=Advanced.csv"
   ]
  },
  {
   "cell_type": "code",
   "execution_count": 6,
   "id": "bf48a36d-463e-4512-bf05-54b4f527f4ec",
   "metadata": {},
   "outputs": [],
   "source": [
    "# Import data & clean"
   ]
  },
  {
   "cell_type": "markdown",
   "id": "33e294c1-c583-44c2-bad0-43e27b73ebd4",
   "metadata": {},
   "source": [
    "## Data Summary"
   ]
  },
  {
   "cell_type": "code",
   "execution_count": null,
   "id": "8c05a688-2db7-4617-b7b4-7a20be08451c",
   "metadata": {},
   "outputs": [],
   "source": [
    "# Feature descriptions"
   ]
  },
  {
   "cell_type": "markdown",
   "id": "3ce53108-4691-4238-8a2c-1fd4b36adda9",
   "metadata": {},
   "source": [
    "## Motivating Questions"
   ]
  },
  {
   "cell_type": "markdown",
   "id": "4bdf3a01-7513-4f8c-9329-8bd8146c4995",
   "metadata": {},
   "source": [
    "## EDA"
   ]
  },
  {
   "cell_type": "code",
   "execution_count": null,
   "id": "79afb5de-3b51-4324-a89c-c8112ef828bb",
   "metadata": {},
   "outputs": [],
   "source": [
    "# EDA"
   ]
  },
  {
   "cell_type": "markdown",
   "id": "8addfb6a-7496-4ade-9347-5c0072bf8c8e",
   "metadata": {},
   "source": [
    "## Model Building & Implementation"
   ]
  },
  {
   "cell_type": "code",
   "execution_count": null,
   "id": "19bcaba8-ba7f-488c-a18f-40bcf280d180",
   "metadata": {},
   "outputs": [],
   "source": [
    "# Models"
   ]
  },
  {
   "cell_type": "markdown",
   "id": "a67d91cd-ab4e-43e0-a2a2-8bf1bfbe0ade",
   "metadata": {},
   "source": [
    "## Conclusions"
   ]
  },
  {
   "cell_type": "markdown",
   "id": "ab6cfcd8-77e1-410a-8253-b6b13f9a7545",
   "metadata": {},
   "source": [
    "## Limitations & Recommendations for Future Work"
   ]
  },
  {
   "cell_type": "code",
   "execution_count": null,
   "id": "2d6766da-bea0-4c05-a3c2-9acb7eee7d90",
   "metadata": {},
   "outputs": [],
   "source": []
  }
 ],
 "metadata": {
  "kernelspec": {
   "display_name": "Python [conda env:base] *",
   "language": "python",
   "name": "conda-base-py"
  },
  "language_info": {
   "codemirror_mode": {
    "name": "ipython",
    "version": 3
   },
   "file_extension": ".py",
   "mimetype": "text/x-python",
   "name": "python",
   "nbconvert_exporter": "python",
   "pygments_lexer": "ipython3",
   "version": "3.12.7"
  }
 },
 "nbformat": 4,
 "nbformat_minor": 5
}
